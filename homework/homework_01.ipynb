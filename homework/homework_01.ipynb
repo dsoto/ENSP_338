{
 "metadata": {
  "name": "",
  "signature": "sha256:0d2894460f5347f88534f83e2fa83fb3fb87134dccbfa68ee7d37dfa0326c6cd"
 },
 "nbformat": 3,
 "nbformat_minor": 0,
 "worksheets": [
  {
   "cells": [
    {
     "cell_type": "markdown",
     "metadata": {},
     "source": [
      "# ENSP 338 Homework Number 1\n",
      "\n",
      "Due Date:\tSeptember 16, 2013\n",
      "\n",
      "## Problem 1\n",
      "\n",
      "Your Basic Toaster Oven\n",
      "\n",
      "a. A toaster oven has a resistance of 24$\\Omega$.  At a voltage of 120V,\n",
      "what is the current through it, and how many watts of power does it\n",
      "draw?\n",
      "\n",
      "**Answer:**\n",
      "\n",
      "Finding the current: From Ohm's Law, $V=IR$, we get a current of $I=V/R$."
     ]
    },
    {
     "cell_type": "code",
     "collapsed": false,
     "input": [
      "voltage = 120.\n",
      "resistance = 24.\n",
      "current = voltage / resistance\n",
      "print(current, 'amps')"
     ],
     "language": "python",
     "metadata": {},
     "outputs": [
      {
       "output_type": "stream",
       "stream": "stdout",
       "text": [
        "5.0 amps\n"
       ]
      }
     ],
     "prompt_number": 1
    },
    {
     "cell_type": "markdown",
     "metadata": {},
     "source": [
      "Finding the power: Can be done one of two ways, $P=VI$ using the current above or $P=V^2/R$.  Note that these two methods are equivalent.\n",
      "\n",
      "P = 120 volts $\\cdot$ 5 amps = 600 watts"
     ]
    },
    {
     "cell_type": "code",
     "collapsed": false,
     "input": [
      "current = 5\n",
      "power = voltage * current\n",
      "print(power, 'watts')"
     ],
     "language": "python",
     "metadata": {},
     "outputs": [
      {
       "output_type": "stream",
       "stream": "stdout",
       "text": [
        "600.0 watts\n"
       ]
      }
     ],
     "prompt_number": 2
    },
    {
     "cell_type": "markdown",
     "metadata": {},
     "source": [
      "$$P = \\frac{(120 volts)^2}{24 \\Omega}$$  "
     ]
    },
    {
     "cell_type": "code",
     "collapsed": false,
     "input": [
      "power = voltage ** 2 / resistance\n",
      "print(power, 'watts')"
     ],
     "language": "python",
     "metadata": {},
     "outputs": [
      {
       "output_type": "stream",
       "stream": "stdout",
       "text": [
        "600.0 watts\n"
       ]
      }
     ],
     "prompt_number": 3
    },
    {
     "cell_type": "markdown",
     "metadata": {},
     "source": [
      "b. Repeat for a toaster oven with a resistance of 12$\\Omega$.\n",
      "\n",
      "**Answer**"
     ]
    },
    {
     "cell_type": "code",
     "collapsed": false,
     "input": [
      "voltage = 120\n",
      "resistance = 12\n",
      "print(voltage / resistance, 'amps')"
     ],
     "language": "python",
     "metadata": {},
     "outputs": [
      {
       "output_type": "stream",
       "stream": "stdout",
       "text": [
        "10.0 amps\n"
       ]
      }
     ],
     "prompt_number": 4
    },
    {
     "cell_type": "code",
     "collapsed": false,
     "input": [
      "print(voltage**2 / resistance, 'watts')"
     ],
     "language": "python",
     "metadata": {},
     "outputs": [
      {
       "output_type": "stream",
       "stream": "stdout",
       "text": [
        "1200.0 watts\n"
       ]
      }
     ],
     "prompt_number": 5
    },
    {
     "cell_type": "markdown",
     "metadata": {},
     "source": [
      "c. Assuming it takes 1 minute to toast two pieces of bread using the\n",
      "    toaster oven with a resistance of 12$\\Omega$, and electricity costs\n",
      "    \\$0.13/kWh, what is the cost of the electricity used to toast two\n",
      "    pieces of bread?\n",
      "\n",
      "**Answer**\n",
      "\n",
      "The 12 Ohm toaster has a power of 600 watts.  To get the energy, recall that energy is \n",
      "is power multiplied by time.  We then multiply that energy by the cost per kWh.\n",
      "\n",
      "$$\\frac{600\\ \\textrm{watts}}{}\n",
      "\\frac{1\\ \\textrm{minute}}{}\n",
      "\\frac{1 kW}{1000 watts}\n",
      "\\frac{1 hour}{60 minutes}\n",
      "\\frac{0.13 USD}{kWh}$$"
     ]
    },
    {
     "cell_type": "code",
     "collapsed": false,
     "input": [
      "power = 1200\n",
      "print('%e' % (power / 1000 / 60 * 0.13), 'USD')"
     ],
     "language": "python",
     "metadata": {},
     "outputs": [
      {
       "output_type": "stream",
       "stream": "stdout",
       "text": [
        "2.600000e-03 USD\n"
       ]
      }
     ],
     "prompt_number": 6
    },
    {
     "cell_type": "markdown",
     "metadata": {},
     "source": [
      "This is 2.6 millidollars or about a quarter of a cent."
     ]
    },
    {
     "cell_type": "markdown",
     "metadata": {},
     "source": [
      "d. Explain in your own words why a load with lower resistance draws\n",
      "    more power.\n",
      "\n",
      "**Answer**\n",
      "\n",
      "Lower resistance draws more current but the voltage remains the same.  Since current times voltage equals power, the power increases."
     ]
    },
    {
     "cell_type": "markdown",
     "metadata": {},
     "source": [
      "## Problem 2\n",
      "\n",
      "Your Basic Bulb\n",
      "\n",
      "a. An incandescent light bulb is rated 40W at 120V.  What is its\n",
      "resistance in ohms, and what is the current?\n",
      "\n",
      "**Answer:**\n",
      "\n",
      "We can use the power expression $P=V^2/R$ to calculate the resistance.  Once we have the resistance, we can use Ohm's Law to calculate the current."
     ]
    },
    {
     "cell_type": "code",
     "collapsed": false,
     "input": [
      "power = 40\n",
      "voltage = 120\n",
      "resistance = voltage ** 2 / power\n",
      "print(resistance, 'ohms')\n",
      "\n",
      "current = voltage / resistance\n",
      "print('%0.3f' % current, 'amps')"
     ],
     "language": "python",
     "metadata": {},
     "outputs": [
      {
       "output_type": "stream",
       "stream": "stdout",
       "text": [
        "360.0 ohms\n",
        "0.333 amps\n"
       ]
      }
     ],
     "prompt_number": 7
    },
    {
     "cell_type": "markdown",
     "metadata": {},
     "source": [
      "b. Repeat for an incandescent light bulb rated 60W."
     ]
    },
    {
     "cell_type": "code",
     "collapsed": false,
     "input": [
      "power = 60\n",
      "voltage = 120\n",
      "resistance = voltage ** 2 / power\n",
      "print(resistance, 'ohms')\n",
      "\n",
      "current = voltage / resistance\n",
      "print('%0.3f' % current, 'amps')"
     ],
     "language": "python",
     "metadata": {},
     "outputs": [
      {
       "output_type": "stream",
       "stream": "stdout",
       "text": [
        "240.0 ohms\n",
        "0.500 amps\n"
       ]
      }
     ],
     "prompt_number": 8
    },
    {
     "cell_type": "markdown",
     "metadata": {},
     "source": [
      "## Problem 3\n",
      "\n",
      "Your Basic Battery\n",
      "\n",
      "a. A battery can deliver 100 amp-hours (Ah) at 12V.  How much stored energy does it have, in kilowatt-hours?  In joules?"
     ]
    },
    {
     "cell_type": "markdown",
     "metadata": {},
     "source": [
      "### Answer\n",
      "\n",
      "100 amp-hours * 12 V = 1200 Wh = 1.2 kWh\n",
      "\n",
      "1.2 kWh * 3.6 MJ / kWh = 4.32 MJ"
     ]
    },
    {
     "cell_type": "markdown",
     "metadata": {},
     "source": [
      "b. Find a rechargeable battery. Note its charging voltage and\n",
      "amp-hour capacity, and calculate the stored energy in kWh and J.\n",
      "Based on your observation of how many hours it takes to charge this\n",
      "battery when depleted, estimate the charging current in amperes and\n",
      "charging power in watts."
     ]
    },
    {
     "cell_type": "markdown",
     "metadata": {},
     "source": [
      "### Answer\n",
      "A Nokia BL-5C Li-Ion battery is rated at 3.7V and 1020 mAh.\n",
      "energy = 3.7 V * 1.020 Ah = 3.8 Wh\n",
      "If it takes 3 hours to change this battery, the average charging power is 3.8 Wh / 3 hours = 1.27 W\n",
      "\n",
      "Assuming the battery is charged at 3.7 V, the current is given by P = VI\n",
      "\n",
      "I = 1.27W / 3.7V = 343 mA"
     ]
    },
    {
     "cell_type": "code",
     "collapsed": false,
     "input": [
      "# problem 3b\n",
      "amphours = 3\n",
      "voltage = 1.5\n",
      "print('energy = {} watthours'.format(amphours * voltage))\n",
      "1/(amphours * voltage / 1000)"
     ],
     "language": "python",
     "metadata": {},
     "outputs": [
      {
       "output_type": "stream",
       "stream": "stdout",
       "text": [
        "energy = 4.5 watthours\n"
       ]
      },
      {
       "metadata": {},
       "output_type": "pyout",
       "prompt_number": 3,
       "text": [
        "222.22222222222223"
       ]
      }
     ],
     "prompt_number": 3
    },
    {
     "cell_type": "markdown",
     "metadata": {},
     "source": [
      "## Problem 4\n",
      "\n",
      "Shocking Science\n",
      "\n",
      "a. While fixing a light in Germany, Prof. von Meier accidentally\n",
      "touched a hot wire at 220V.  What would the resistance of her shoes\n",
      "(which we assume to be the most significant resistance in the\n",
      "circuit) have to be so that the current through her body would not\n",
      "exceed 50 milliamps (mA)?\n",
      "\n",
      "### Answer"
     ]
    },
    {
     "cell_type": "code",
     "collapsed": false,
     "input": [
      "Voltage = 220\n",
      "Current = .05\n",
      "Resistance = Voltage / Current\n",
      "print(Resistance,'Resistance')"
     ],
     "language": "python",
     "metadata": {},
     "outputs": [
      {
       "output_type": "stream",
       "stream": "stdout",
       "text": [
        "4400.0 Resistance\n"
       ]
      }
     ],
     "prompt_number": 9
    },
    {
     "cell_type": "markdown",
     "metadata": {},
     "source": [
      "b. Why is it inadvisable to perform electrical work while standing\n",
      "in a puddle of water, and \twhy are wooden ladders preferable to\n",
      "aluminum?"
     ]
    },
    {
     "cell_type": "markdown",
     "metadata": {},
     "source": [
      "The (impure) water has a high electrical conductivity, or low resistance, compared to dry shoes, meaning that it will allow a greater current to flow through your body if you are contacting a high voltage with a hand and standing on the ground. Wood has a much higher resistivity than aluminum, so the wood ladder introduces a higher resistance into the circuit between you and the ground, limiting the current."
     ]
    },
    {
     "cell_type": "markdown",
     "metadata": {},
     "source": [
      "c. Why do electricians touch their pinkie to the wall while touching\n",
      "a wire with their thumb?"
     ]
    },
    {
     "cell_type": "markdown",
     "metadata": {},
     "source": [
      "If one finger touches high voltage and the other touches the wall, the electrical circuit will go through only the hand and not across the heart."
     ]
    },
    {
     "cell_type": "markdown",
     "metadata": {},
     "source": [
      "## Problem 5\n",
      "\n",
      "Extrapolating from your PG&E bill\n",
      "\n",
      "Find a recent PG&E bill for your house or a friend's.\n",
      "\n",
      "a. \tEstimate the total connected load in this residence, and think\n",
      "about the typical times for which appliances are used.  Does the\n",
      "bill make sense?\n",
      "\n",
      "Example: Bathroom lights, 150W * 3 hrs/day * 30 d/mo = 13.5 kWh/mo\n",
      "\n",
      "Hair dryer, 1000W * 5 min/d * 30d/mo * 1 hr/60min = 2.5 kWh/mo\n",
      "\n",
      "Electric toothbrush charger, 4W * 24h/d * 30d/mo = 2.8 kWh/mo\n",
      "\n",
      "Total bathroom = 19 kWh/mo\n",
      "\n",
      "Carry out this estimate for your whole house."
     ]
    },
    {
     "cell_type": "code",
     "collapsed": false,
     "input": [
      "'Stove'\n",
      "Watts = 1500\n",
      "HrsDay = 1.5\n",
      "Days = 30\n",
      "TotalPower = Watts * HrsDay * Days / 1000\n",
      "print('%0.3f' % TotalPower, 'kwh/mo')"
     ],
     "language": "python",
     "metadata": {},
     "outputs": [
      {
       "output_type": "stream",
       "stream": "stdout",
       "text": [
        "67.500 kwh/mo\n"
       ]
      }
     ],
     "prompt_number": 10
    },
    {
     "cell_type": "markdown",
     "metadata": {},
     "source": [
      "b. From the total billed monthly electric energy (kWh) consumption,\n",
      "calculate the average rate of power consumption in watts."
     ]
    },
    {
     "cell_type": "code",
     "collapsed": false,
     "input": [
      "TotalUse = 250000\n",
      "Hours = 720\n",
      "AveragePerDay = TotalUse / Hours\n",
      "print('%0.3f' % AveragePerDay, 'W')"
     ],
     "language": "python",
     "metadata": {},
     "outputs": [
      {
       "output_type": "stream",
       "stream": "stdout",
       "text": [
        "347.222 W\n"
       ]
      }
     ],
     "prompt_number": 11
    },
    {
     "cell_type": "markdown",
     "metadata": {},
     "source": [
      "c. Based on things you know (U.S. population, etc), estimate the\n",
      "average rate of electric power consumption in the United States, in\n",
      "multiples of watts."
     ]
    },
    {
     "cell_type": "code",
     "collapsed": false,
     "input": [
      "Watts = 347\n",
      "HouseHolds = 114000000\n",
      "Total = Watts * HouseHolds / 1000\n",
      "print(Total, 'KW')\n"
     ],
     "language": "python",
     "metadata": {},
     "outputs": [
      {
       "output_type": "stream",
       "stream": "stdout",
       "text": [
        "39558000.0 KW\n"
       ]
      }
     ],
     "prompt_number": 12
    },
    {
     "cell_type": "markdown",
     "metadata": {},
     "source": [
      "d. Convert the average figure from c. into kilowatt-hours (kWh) per year."
     ]
    },
    {
     "cell_type": "code",
     "collapsed": false,
     "input": [
      "KW = 39558000\n",
      "Hours = 8760\n",
      "KWH = KW * Hours\n",
      "print (KWH, 'KWH')"
     ],
     "language": "python",
     "metadata": {},
     "outputs": [
      {
       "output_type": "stream",
       "stream": "stdout",
       "text": [
        "346528080000 KWH\n"
       ]
      }
     ],
     "prompt_number": 13
    },
    {
     "cell_type": "markdown",
     "metadata": {},
     "source": [
      "e. On the internet, see if you can verify that you got the correct\n",
      "order of magnitude in your estimate in d."
     ]
    },
    {
     "cell_type": "markdown",
     "metadata": {},
     "source": [
      "## Problems from REEPS\n",
      "\n",
      "Solve the following problems at the end of chapter 2 in the REEPS text.\n",
      "\n",
      "Problems:  2.6, 2.9"
     ]
    },
    {
     "cell_type": "markdown",
     "metadata": {},
     "source": [
      "## Problem 6 (REEPS2 2.6)"
     ]
    },
    {
     "cell_type": "markdown",
     "metadata": {},
     "source": [
      "a) To calculate the resistance given the voltage and delivered power we use\n",
      "$$R = V^2/P$$\n",
      "$$ R = (240 volts)^2 / 4800 = 12 ohms$$"
     ]
    },
    {
     "cell_type": "code",
     "collapsed": false,
     "input": [
      "240**2 / 4800"
     ],
     "language": "python",
     "metadata": {},
     "outputs": [
      {
       "metadata": {},
       "output_type": "pyout",
       "prompt_number": 14,
       "text": [
        "12.0"
       ]
      }
     ],
     "prompt_number": 14
    },
    {
     "cell_type": "markdown",
     "metadata": {},
     "source": [
      "b) If we connect a 208 volt source to this 12 ohm resistance we get 3.6 kW of power from $P = V^2/R$"
     ]
    },
    {
     "cell_type": "code",
     "collapsed": false,
     "input": [
      "208**2 / 12"
     ],
     "language": "python",
     "metadata": {},
     "outputs": [
      {
       "metadata": {},
       "output_type": "pyout",
       "prompt_number": 15,
       "text": [
        "3605.3333333333335"
       ]
      }
     ],
     "prompt_number": 15
    },
    {
     "cell_type": "markdown",
     "metadata": {},
     "source": [
      "c) To determine the time to heat, we use the $Q = c m \\Delta T$ equation.  Where Q is the energy delivered, m is the mass of water, and T is the temperature\n",
      "\n",
      "We also notice that the energy delivered, $Q$ is equal to the power, $P$, multiplied by the time, $t$\n",
      "\n",
      "$$ Q = P \\cdot t $$\n",
      "\n",
      "Assembling,\n",
      "\n",
      "$$ t = \\frac{c m \\Delta T }{ P}$$\n",
      "\n",
      "Unfortunately, the units are mixed causing additional tedium.\n",
      "\n",
      "$$ t = \\frac{4.186 joules}{gr\\ C}\n",
      "\\frac{}{}"
     ]
    },
    {
     "cell_type": "code",
     "collapsed": false,
     "input": [
      "26020 / 4.8 / 3412"
     ],
     "language": "python",
     "metadata": {},
     "outputs": [
      {
       "metadata": {},
       "output_type": "pyout",
       "prompt_number": 16,
       "text": [
        "1.5887553731926536"
       ]
      }
     ],
     "prompt_number": 16
    },
    {
     "cell_type": "markdown",
     "metadata": {},
     "source": [
      "d) Here we calculate the energy needed to raise the temperature 50 degrees and calculate the cost."
     ]
    },
    {
     "cell_type": "code",
     "collapsed": false,
     "input": [
      "15 * 8.34 * 1 * (110-60) * 0.12 / 3412 "
     ],
     "language": "python",
     "metadata": {},
     "outputs": [
      {
       "metadata": {},
       "output_type": "pyout",
       "prompt_number": 17,
       "text": [
        "0.21998827667057444"
       ]
      }
     ],
     "prompt_number": 17
    },
    {
     "cell_type": "markdown",
     "metadata": {},
     "source": [
      "## Problem 7 \n",
      "REEPS2 2.9\n"
     ]
    },
    {
     "cell_type": "markdown",
     "metadata": {},
     "source": [
      "a) Since the bulbs are designed to use 60 watts at 12 volts, we can calculate the filament resistance using\n",
      "$$ P = V^2/R $$\n",
      "$$ R = V^2 / P $$\n",
      "$$ R = (12 volts)^2  / 60 watts = 2.4 ohms$$ is the filament resistance for each bulb."
     ]
    },
    {
     "cell_type": "code",
     "collapsed": false,
     "input": [
      "12.**2 / 60."
     ],
     "language": "python",
     "metadata": {},
     "outputs": [
      {
       "metadata": {},
       "output_type": "pyout",
       "prompt_number": 18,
       "text": [
        "2.4"
       ]
      }
     ],
     "prompt_number": 18
    },
    {
     "cell_type": "markdown",
     "metadata": {},
     "source": [
      "b) If we place 12 volts across a 2.4 ohm load, the current is given by ohms law.\n",
      "$$ V = IR $$\n",
      "$$ I = V/R = 12 volts / 2.4 ohms = 5 amps $$\n",
      "This is the current through one bulb, so 10 amps demanded from the battery for both bulbs."
     ]
    },
    {
     "cell_type": "markdown",
     "metadata": {},
     "source": [
      "c) 14 gauge wire will handle 15A and is the smallest wire that will handle the 10 amps current"
     ]
    },
    {
     "cell_type": "markdown",
     "metadata": {},
     "source": [
      "d) The parallel lamps have an equivalent resistance of 1.2 ohms. Table 2.3 gives the resistance of the 14 gauge wire at 0.2525 per 100ft. Each 50ft section of wire has a resistance of 0.2525/2 ohms. The total resistance is\n",
      "\n",
      "1.2 + 0.2525/2 + 0.2525/2 = 1.4525\n",
      "\n",
      "e) current delivered = 12 / 1.4525 = 8.26A\n",
      "\n",
      "f) power delivered by battery = P = VI\n",
      "\n",
      "12V * 8.26A = 99.1W\n",
      "\n",
      "g) P = I^2 * R = (8.26)^2 * 0.2525 = 17.2\n",
      "\n",
      "We calculate the fraction of power in the wire (17.2 watts) to the power delivered by the battery (99.1W)\n",
      "\n",
      "17.2W / 99.1W = 17.4 % which is a significant fraction of the battery power\n",
      "\n",
      "h) power delivered to lamps is battery power - wire power = 81.9W  Compare to the rated power of 60 + 60 = 120 watts for the two bulbs.\n",
      "\n",
      "81.9 / 120 = 68%"
     ]
    },
    {
     "cell_type": "markdown",
     "metadata": {},
     "source": [
      "## Time management\n",
      "\n",
      "Estimate how much time you spent working on this problem set to the\n",
      "nearest hour."
     ]
    }
   ],
   "metadata": {}
  }
 ]
}